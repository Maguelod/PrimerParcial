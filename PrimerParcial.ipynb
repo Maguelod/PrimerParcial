{
  "nbformat": 4,
  "nbformat_minor": 0,
  "metadata": {
    "colab": {
      "provenance": []
    },
    "kernelspec": {
      "name": "python3",
      "display_name": "Python 3"
    },
    "language_info": {
      "name": "python"
    }
  },
  "cells": [
    {
      "cell_type": "code",
      "execution_count": 5,
      "metadata": {
        "id": "RdCD5slK50hJ"
      },
      "outputs": [],
      "source": [
        "#Importando librerias\n",
        "import os\n",
        "import numpy as np\n",
        "from matplotlib import pyplot\n",
        "import pandas as pd"
      ]
    },
    {
      "cell_type": "code",
      "source": [
        "#Conectando con Drive\n",
        "from google.colab import drive\n",
        "drive.mount('/content/drive')"
      ],
      "metadata": {
        "colab": {
          "base_uri": "https://localhost:8080/"
        },
        "id": "N8vZtAVP6wQS",
        "outputId": "aca5f6d2-69ea-44dd-eca4-e4edb3e358d3"
      },
      "execution_count": 6,
      "outputs": [
        {
          "output_type": "stream",
          "name": "stdout",
          "text": [
            "Drive already mounted at /content/drive; to attempt to forcibly remount, call drive.mount(\"/content/drive\", force_remount=True).\n"
          ]
        }
      ]
    },
    {
      "cell_type": "markdown",
      "source": [
        "DATA SET USADO #198 https://www.kaggle.com/datasets/mariyamalshatta/inn-hotels-group/"
      ],
      "metadata": {
        "id": "AIKj_Tss-wm0"
      }
    },
    {
      "cell_type": "code",
      "source": [
        "#Importando dataset\n",
        "import pandas as pd\n",
        "data = pd.read_csv('/content/drive/MyDrive/INNHotelsGroup.csv')\n",
        "data.info()"
      ],
      "metadata": {
        "id": "OqMkSOX060By",
        "colab": {
          "base_uri": "https://localhost:8080/"
        },
        "outputId": "ea6f1af0-1347-47fe-85eb-9279bb8709dd"
      },
      "execution_count": 7,
      "outputs": [
        {
          "output_type": "stream",
          "name": "stdout",
          "text": [
            "<class 'pandas.core.frame.DataFrame'>\n",
            "RangeIndex: 36275 entries, 0 to 36274\n",
            "Data columns (total 19 columns):\n",
            " #   Column                                Non-Null Count  Dtype  \n",
            "---  ------                                --------------  -----  \n",
            " 0   Booking_ID                            36275 non-null  object \n",
            " 1   no_of_adults                          36275 non-null  int64  \n",
            " 2   no_of_children                        36275 non-null  int64  \n",
            " 3   no_of_weekend_nights                  36275 non-null  int64  \n",
            " 4   no_of_week_nights                     36275 non-null  int64  \n",
            " 5   type_of_meal_plan                     36275 non-null  object \n",
            " 6   required_car_parking_space            36275 non-null  int64  \n",
            " 7   room_type_reserved                    36275 non-null  object \n",
            " 8   lead_time                             36275 non-null  int64  \n",
            " 9   arrival_year                          36275 non-null  int64  \n",
            " 10  arrival_month                         36275 non-null  int64  \n",
            " 11  arrival_date                          36275 non-null  int64  \n",
            " 12  market_segment_type                   36275 non-null  object \n",
            " 13  repeated_guest                        36275 non-null  int64  \n",
            " 14  no_of_previous_cancellations          36275 non-null  int64  \n",
            " 15  no_of_previous_bookings_not_canceled  36275 non-null  int64  \n",
            " 16  avg_price_per_room                    36275 non-null  float64\n",
            " 17  no_of_special_requests                36275 non-null  int64  \n",
            " 18  booking_status                        36275 non-null  object \n",
            "dtypes: float64(1), int64(13), object(5)\n",
            "memory usage: 5.3+ MB\n"
          ]
        }
      ]
    },
    {
      "cell_type": "markdown",
      "source": [
        " Insertar atributos que contengan caracteres, texto y\n",
        " valores booleanos"
      ],
      "metadata": {
        "id": "S-RLmmhaFj4y"
      }
    },
    {
      "cell_type": "code",
      "source": [
        "#Agrega caracteres en la columna tipo de cuarto\n",
        "Groups = ['A', 'B', 'C', 'D']\n",
        "data['Tipo de Cuarto'] = np.random.choice(Groups, size=len(data))\n",
        "\n",
        "# Agregar una nueva columna de texto \"Comentarios\" con valores de comentarios predeterminados\n",
        "feedback_texts = ['¡Gran servicio!', 'La habitación no estaba limpia.', 'Volvería otra vez.', '¡Tuve una estancia fantástica!', 'No vale el precio.']\n",
        "# Agrega randomicamente comentarios a cada huesped\n",
        "data['Comentarios'] = np.random.choice(feedback_texts, size=len(data))\n",
        "\n",
        "# Agregue una nueva columna booleana \"VIP_Guest\" basada en la cantidad de reservas anteriores no canceladas\n",
        "data['VIP'] = np.where(data['no_of_previous_bookings_not_canceled'] > 2, True, False)\n",
        "\n",
        "# Mostrar el conjunto de datos modificado con las nuevas columnas\n",
        "print(data.head())"
      ],
      "metadata": {
        "colab": {
          "base_uri": "https://localhost:8080/"
        },
        "id": "8HBD-zyV_wUL",
        "outputId": "f1b52b04-faea-434a-c110-d53610112b1c"
      },
      "execution_count": 8,
      "outputs": [
        {
          "output_type": "stream",
          "name": "stdout",
          "text": [
            "  Booking_ID  no_of_adults  no_of_children  no_of_weekend_nights  \\\n",
            "0   INN00001             2               0                     1   \n",
            "1   INN00002             2               0                     2   \n",
            "2   INN00003             1               0                     2   \n",
            "3   INN00004             2               0                     0   \n",
            "4   INN00005             2               0                     1   \n",
            "\n",
            "   no_of_week_nights type_of_meal_plan  required_car_parking_space  \\\n",
            "0                  2       Meal Plan 1                           0   \n",
            "1                  3      Not Selected                           0   \n",
            "2                  1       Meal Plan 1                           0   \n",
            "3                  2       Meal Plan 1                           0   \n",
            "4                  1      Not Selected                           0   \n",
            "\n",
            "  room_type_reserved  lead_time  arrival_year  ...  market_segment_type  \\\n",
            "0        Room_Type 1        224          2017  ...              Offline   \n",
            "1        Room_Type 1          5          2018  ...               Online   \n",
            "2        Room_Type 1          1          2018  ...               Online   \n",
            "3        Room_Type 1        211          2018  ...               Online   \n",
            "4        Room_Type 1         48          2018  ...               Online   \n",
            "\n",
            "   repeated_guest no_of_previous_cancellations  \\\n",
            "0               0                            0   \n",
            "1               0                            0   \n",
            "2               0                            0   \n",
            "3               0                            0   \n",
            "4               0                            0   \n",
            "\n",
            "   no_of_previous_bookings_not_canceled  avg_price_per_room  \\\n",
            "0                                     0               65.00   \n",
            "1                                     0              106.68   \n",
            "2                                     0               60.00   \n",
            "3                                     0              100.00   \n",
            "4                                     0               94.50   \n",
            "\n",
            "   no_of_special_requests  booking_status  Tipo de Cuarto         Comentarios  \\\n",
            "0                       0    Not_Canceled               C     ¡Gran servicio!   \n",
            "1                       1    Not_Canceled               B     ¡Gran servicio!   \n",
            "2                       0        Canceled               D     ¡Gran servicio!   \n",
            "3                       0        Canceled               C     ¡Gran servicio!   \n",
            "4                       0        Canceled               B  Volvería otra vez.   \n",
            "\n",
            "     VIP  \n",
            "0  False  \n",
            "1  False  \n",
            "2  False  \n",
            "3  False  \n",
            "4  False  \n",
            "\n",
            "[5 rows x 22 columns]\n"
          ]
        }
      ]
    }
  ]
}